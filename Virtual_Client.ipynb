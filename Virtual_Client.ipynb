{
 "cells": [
  {
   "cell_type": "markdown",
   "metadata": {},
   "source": [
    "__The aim of this script is to store all the incoming messages from the DHT-11 in a SQLite3 Database. We will need a table initializing script and a Virtual Client script.__"
   ]
  },
  {
   "cell_type": "code",
   "execution_count": 10,
   "metadata": {},
   "outputs": [
    {
     "ename": "ModuleNotFoundError",
     "evalue": "No module named 'Store_Data'",
     "output_type": "error",
     "traceback": [
      "\u001b[0;31m---------------------------------------------------------------------------\u001b[0m",
      "\u001b[0;31mModuleNotFoundError\u001b[0m                       Traceback (most recent call last)",
      "\u001b[0;32m<ipython-input-10-63c3e7d7e4de>\u001b[0m in \u001b[0;36m<module>\u001b[0;34m\u001b[0m\n\u001b[1;32m      1\u001b[0m \u001b[0;32mimport\u001b[0m \u001b[0mpaho\u001b[0m\u001b[0;34m.\u001b[0m\u001b[0mmqtt\u001b[0m\u001b[0;34m.\u001b[0m\u001b[0mclient\u001b[0m \u001b[0;32mas\u001b[0m \u001b[0mmqtt\u001b[0m\u001b[0;34m\u001b[0m\u001b[0;34m\u001b[0m\u001b[0m\n\u001b[0;32m----> 2\u001b[0;31m \u001b[0;32mfrom\u001b[0m \u001b[0mStore_Data\u001b[0m \u001b[0;32mimport\u001b[0m \u001b[0mSensor_Data_Handler\u001b[0m\u001b[0;34m\u001b[0m\u001b[0;34m\u001b[0m\u001b[0m\n\u001b[0m",
      "\u001b[0;31mModuleNotFoundError\u001b[0m: No module named 'Store_Data'"
     ]
    }
   ],
   "source": [
    "import paho.mqtt.client as mqtt\n",
    "from Store_Data import Sensor_Data_Handler"
   ]
  },
  {
   "cell_type": "code",
   "execution_count": 5,
   "metadata": {},
   "outputs": [],
   "source": [
    "MQTT_Broker = \"192.168.1.117\"\n",
    "MQTT_Port = 1883\n",
    "Keep_Alive_Interval = 45\n",
    "MQTT_Topic = \"#\"\n",
    "mybuffer = ''"
   ]
  },
  {
   "cell_type": "code",
   "execution_count": null,
   "metadata": {},
   "outputs": [],
   "source": [
    "#Subscribe to all Sensors at Base Topic\n",
    "def on_connect(client, userdata, flags, rc):\n",
    "    if rc==0:\n",
    "        #mqttc.connected_flag = True #set flag\n",
    "        print(\"Connected OK Returned code =\", rc)\n",
    "        mqttc.subscribe(MQTT_Topic, 0)\n",
    "        print(\"Client should be Subscribed\")\n",
    "    else:\n",
    "        print(\"Bad connection returned error code =\", rc)\n",
    "\n",
    "#Save Data into DB Table\n",
    "def on_message(client, userdata, msg):\n",
    "    #This is the Master Call for saving MQTT Data into DB\n",
    "    #Refer to Store_Data.py for more information\n",
    "    mybuffer = str(msg.payload)\n",
    "    #topic = str(msg.topic)\n",
    "    print(\"MQTT Data Received...\")\n",
    "    print(\"MQTT Topic: \" + str(msg.topic))\n",
    "    print(\"Data: \" + mybuffer)\n",
    "    Sensor_Data_Handler(str(msg.topic), mybuffer)\n",
    "\n",
    "                   \n",
    "def on_subscribe(mqttc, userdata, flags, rc):\n",
    "    pass"
   ]
  },
  {
   "cell_type": "code",
   "execution_count": 7,
   "metadata": {},
   "outputs": [],
   "source": [
    "mqttc = mqtt.Client()"
   ]
  },
  {
   "cell_type": "code",
   "execution_count": 8,
   "metadata": {},
   "outputs": [
    {
     "name": "stdout",
     "output_type": "stream",
     "text": [
      "Connected OK Returned code = 0\n",
      "Client should be Subscribed\n",
      "MQTT Data Received...\n",
      "MQTT Topic: Temperature\n",
      "Data: b'25.40'\n",
      "MQTT Data Received...\n",
      "MQTT Topic: Humidity\n",
      "Data: b'59.00'\n",
      "MQTT Data Received...\n",
      "MQTT Topic: Temperature\n",
      "Data: b'25.50'\n",
      "MQTT Data Received...\n",
      "MQTT Topic: Humidity\n",
      "Data: b'59.00'\n",
      "MQTT Data Received...\n",
      "MQTT Topic: Temperature\n",
      "Data: b'25.00'\n",
      "MQTT Data Received...\n",
      "MQTT Topic: Humidity\n",
      "Data: b'60.00'\n",
      "MQTT Data Received...\n",
      "MQTT Topic: Temperature\n",
      "Data: b'25.10'\n",
      "MQTT Data Received...\n",
      "MQTT Topic: Humidity\n",
      "Data: b'60.00'\n",
      "MQTT Data Received...\n",
      "MQTT Topic: Temperature\n",
      "Data: b'25.10'\n",
      "MQTT Data Received...\n",
      "MQTT Topic: Humidity\n",
      "Data: b'60.00'\n",
      "MQTT Data Received...\n",
      "MQTT Topic: Temperature\n",
      "Data: b'25.00'\n",
      "MQTT Data Received...\n",
      "MQTT Topic: Humidity\n",
      "Data: b'61.00'\n",
      "MQTT Data Received...\n",
      "MQTT Topic: Temperature\n",
      "Data: b'24.90'\n",
      "MQTT Data Received...\n",
      "MQTT Topic: Humidity\n",
      "Data: b'60.00'\n",
      "MQTT Data Received...\n",
      "MQTT Topic: Temperature\n",
      "Data: b'25.30'\n",
      "MQTT Data Received...\n",
      "MQTT Topic: Humidity\n",
      "Data: b'59.00'\n",
      "MQTT Data Received...\n",
      "MQTT Topic: Temperature\n",
      "Data: b'25.10'\n",
      "MQTT Data Received...\n",
      "MQTT Topic: Humidity\n",
      "Data: b'59.00'\n",
      "MQTT Data Received...\n",
      "MQTT Topic: Temperature\n",
      "Data: b'24.90'\n",
      "MQTT Data Received...\n",
      "MQTT Topic: Humidity\n",
      "Data: b'60.00'\n",
      "MQTT Data Received...\n",
      "MQTT Topic: Temperature\n",
      "Data: b'25.00'\n",
      "MQTT Data Received...\n",
      "MQTT Topic: Humidity\n",
      "Data: b'60.00'\n",
      "MQTT Data Received...\n",
      "MQTT Topic: Temperature\n",
      "Data: b'25.00'\n",
      "MQTT Data Received...\n",
      "MQTT Topic: Humidity\n",
      "Data: b'61.00'\n",
      "MQTT Data Received...\n",
      "MQTT Topic: Temperature\n",
      "Data: b'25.50'\n",
      "MQTT Data Received...\n",
      "MQTT Topic: Humidity\n",
      "Data: b'59.00'\n",
      "MQTT Data Received...\n",
      "MQTT Topic: Temperature\n",
      "Data: b'25.80'\n",
      "MQTT Data Received...\n",
      "MQTT Topic: Humidity\n",
      "Data: b'58.00'\n",
      "MQTT Data Received...\n",
      "MQTT Topic: Temperature\n",
      "Data: b'25.70'\n",
      "MQTT Data Received...\n",
      "MQTT Topic: Humidity\n",
      "Data: b'57.00'\n",
      "MQTT Data Received...\n",
      "MQTT Topic: Temperature\n",
      "Data: b'25.70'\n",
      "MQTT Data Received...\n",
      "MQTT Topic: Humidity\n",
      "Data: b'57.00'\n"
     ]
    },
    {
     "ename": "KeyboardInterrupt",
     "evalue": "",
     "output_type": "error",
     "traceback": [
      "\u001b[0;31m---------------------------------------------------------------------------\u001b[0m",
      "\u001b[0;31mKeyboardInterrupt\u001b[0m                         Traceback (most recent call last)",
      "\u001b[0;32m<ipython-input-8-a66b64c8a785>\u001b[0m in \u001b[0;36m<module>\u001b[0;34m\u001b[0m\n\u001b[1;32m      8\u001b[0m \u001b[0;31m# mqttc.message()\u001b[0m\u001b[0;34m\u001b[0m\u001b[0;34m\u001b[0m\u001b[0;34m\u001b[0m\u001b[0m\n\u001b[1;32m      9\u001b[0m \u001b[0;31m# Continue the network loop\u001b[0m\u001b[0;34m\u001b[0m\u001b[0;34m\u001b[0m\u001b[0;34m\u001b[0m\u001b[0m\n\u001b[0;32m---> 10\u001b[0;31m \u001b[0mmqttc\u001b[0m\u001b[0;34m.\u001b[0m\u001b[0mloop_forever\u001b[0m\u001b[0;34m(\u001b[0m\u001b[0;34m)\u001b[0m\u001b[0;34m\u001b[0m\u001b[0;34m\u001b[0m\u001b[0m\n\u001b[0m",
      "\u001b[0;32m~/anaconda3/envs/MyPythonCode/lib/python3.7/site-packages/paho/mqtt/client.py\u001b[0m in \u001b[0;36mloop_forever\u001b[0;34m(self, timeout, max_packets, retry_first_connection)\u001b[0m\n\u001b[1;32m   1780\u001b[0m             \u001b[0mrc\u001b[0m \u001b[0;34m=\u001b[0m \u001b[0mMQTT_ERR_SUCCESS\u001b[0m\u001b[0;34m\u001b[0m\u001b[0;34m\u001b[0m\u001b[0m\n\u001b[1;32m   1781\u001b[0m             \u001b[0;32mwhile\u001b[0m \u001b[0mrc\u001b[0m \u001b[0;34m==\u001b[0m \u001b[0mMQTT_ERR_SUCCESS\u001b[0m\u001b[0;34m:\u001b[0m\u001b[0;34m\u001b[0m\u001b[0;34m\u001b[0m\u001b[0m\n\u001b[0;32m-> 1782\u001b[0;31m                 \u001b[0mrc\u001b[0m \u001b[0;34m=\u001b[0m \u001b[0mself\u001b[0m\u001b[0;34m.\u001b[0m\u001b[0mloop\u001b[0m\u001b[0;34m(\u001b[0m\u001b[0mtimeout\u001b[0m\u001b[0;34m,\u001b[0m \u001b[0mmax_packets\u001b[0m\u001b[0;34m)\u001b[0m\u001b[0;34m\u001b[0m\u001b[0;34m\u001b[0m\u001b[0m\n\u001b[0m\u001b[1;32m   1783\u001b[0m                 \u001b[0;31m# We don't need to worry about locking here, because we've\u001b[0m\u001b[0;34m\u001b[0m\u001b[0;34m\u001b[0m\u001b[0;34m\u001b[0m\u001b[0m\n\u001b[1;32m   1784\u001b[0m                 \u001b[0;31m# either called loop_forever() when in single threaded mode, or\u001b[0m\u001b[0;34m\u001b[0m\u001b[0;34m\u001b[0m\u001b[0;34m\u001b[0m\u001b[0m\n",
      "\u001b[0;32m~/anaconda3/envs/MyPythonCode/lib/python3.7/site-packages/paho/mqtt/client.py\u001b[0m in \u001b[0;36mloop\u001b[0;34m(self, timeout, max_packets)\u001b[0m\n\u001b[1;32m   1161\u001b[0m         \u001b[0mrlist\u001b[0m \u001b[0;34m=\u001b[0m \u001b[0;34m[\u001b[0m\u001b[0mself\u001b[0m\u001b[0;34m.\u001b[0m\u001b[0m_sock\u001b[0m\u001b[0;34m,\u001b[0m \u001b[0mself\u001b[0m\u001b[0;34m.\u001b[0m\u001b[0m_sockpairR\u001b[0m\u001b[0;34m]\u001b[0m\u001b[0;34m\u001b[0m\u001b[0;34m\u001b[0m\u001b[0m\n\u001b[1;32m   1162\u001b[0m         \u001b[0;32mtry\u001b[0m\u001b[0;34m:\u001b[0m\u001b[0;34m\u001b[0m\u001b[0;34m\u001b[0m\u001b[0m\n\u001b[0;32m-> 1163\u001b[0;31m             \u001b[0msocklist\u001b[0m \u001b[0;34m=\u001b[0m \u001b[0mselect\u001b[0m\u001b[0;34m.\u001b[0m\u001b[0mselect\u001b[0m\u001b[0;34m(\u001b[0m\u001b[0mrlist\u001b[0m\u001b[0;34m,\u001b[0m \u001b[0mwlist\u001b[0m\u001b[0;34m,\u001b[0m \u001b[0;34m[\u001b[0m\u001b[0;34m]\u001b[0m\u001b[0;34m,\u001b[0m \u001b[0mtimeout\u001b[0m\u001b[0;34m)\u001b[0m\u001b[0;34m\u001b[0m\u001b[0;34m\u001b[0m\u001b[0m\n\u001b[0m\u001b[1;32m   1164\u001b[0m         \u001b[0;32mexcept\u001b[0m \u001b[0mTypeError\u001b[0m\u001b[0;34m:\u001b[0m\u001b[0;34m\u001b[0m\u001b[0;34m\u001b[0m\u001b[0m\n\u001b[1;32m   1165\u001b[0m             \u001b[0;31m# Socket isn't correct type, in likelihood connection is lost\u001b[0m\u001b[0;34m\u001b[0m\u001b[0;34m\u001b[0m\u001b[0;34m\u001b[0m\u001b[0m\n",
      "\u001b[0;31mKeyboardInterrupt\u001b[0m: "
     ]
    }
   ],
   "source": [
    "# Assign event callbacks\n",
    "mqttc.on_message = on_message\n",
    "mqttc.on_connect = on_connect\n",
    "mqttc.on_subscribe = on_subscribe\n",
    "\n",
    "# Connect\n",
    "mqttc.connect(MQTT_Broker, int(MQTT_Port), int(Keep_Alive_Interval))\n",
    "# mqttc.message()\n",
    "# Continue the network loop\n",
    "mqttc.loop_forever()"
   ]
  },
  {
   "cell_type": "code",
   "execution_count": null,
   "metadata": {},
   "outputs": [],
   "source": []
  },
  {
   "cell_type": "code",
   "execution_count": null,
   "metadata": {},
   "outputs": [],
   "source": []
  }
 ],
 "metadata": {
  "kernelspec": {
   "display_name": "Python 3",
   "language": "python",
   "name": "python3"
  },
  "language_info": {
   "codemirror_mode": {
    "name": "ipython",
    "version": 3
   },
   "file_extension": ".py",
   "mimetype": "text/x-python",
   "name": "python",
   "nbconvert_exporter": "python",
   "pygments_lexer": "ipython3",
   "version": "3.7.5"
  }
 },
 "nbformat": 4,
 "nbformat_minor": 2
}
