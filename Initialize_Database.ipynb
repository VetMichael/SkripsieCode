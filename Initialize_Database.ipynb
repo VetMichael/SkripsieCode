{
 "cells": [
  {
   "cell_type": "markdown",
   "metadata": {},
   "source": [
    "__The aim of this script is to store all the incoming messages from the DHT-11 in a SQLite3 Database. We will need a table initializing script and a Virtual Client script.__"
   ]
  },
  {
   "cell_type": "code",
   "execution_count": 1,
   "metadata": {},
   "outputs": [],
   "source": [
    "import sqlite3"
   ]
  },
  {
   "cell_type": "code",
   "execution_count": 2,
   "metadata": {},
   "outputs": [],
   "source": [
    "DB_Name = 'IoT.db'\n",
    "conn = sqlite3.connect(DB_Name)\n",
    "curs = conn.cursor()"
   ]
  },
  {
   "cell_type": "code",
   "execution_count": 3,
   "metadata": {},
   "outputs": [],
   "source": [
    "curs.execute('''CREATE TABLE Temperature_Data(\n",
    "    id INTEGER PRIMARY KEY AUTOINCREMENT,\n",
    "    Temperature TEXT,\n",
    "    Date_And_Time TEXT)''');\n",
    "\n",
    "curs.execute('''CREATE TABLE Moisture_Data(\n",
    "    id INTEGER PRIMARY KEY AUTOINCREMENT,\n",
    "    Moisture TEXT,\n",
    "    Date_And_Time TEXT)''');"
   ]
  },
  {
   "cell_type": "code",
   "execution_count": 4,
   "metadata": {},
   "outputs": [],
   "source": [
    "curs.close()\n",
    "conn.close()"
   ]
  },
  {
   "cell_type": "code",
   "execution_count": null,
   "metadata": {},
   "outputs": [],
   "source": []
  }
 ],
 "metadata": {
  "kernelspec": {
   "display_name": "Python 3",
   "language": "python",
   "name": "python3"
  },
  "language_info": {
   "codemirror_mode": {
    "name": "ipython",
    "version": 3
   },
   "file_extension": ".py",
   "mimetype": "text/x-python",
   "name": "python",
   "nbconvert_exporter": "python",
   "pygments_lexer": "ipython3",
   "version": "3.7.5"
  }
 },
 "nbformat": 4,
 "nbformat_minor": 2
}
