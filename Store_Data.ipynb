{
 "cells": [
  {
   "cell_type": "code",
   "execution_count": 3,
   "metadata": {},
   "outputs": [],
   "source": [
    "import json\n",
    "import sqlite3\n",
    "from datetime import date\n",
    "import datetime"
   ]
  },
  {
   "cell_type": "code",
   "execution_count": 4,
   "metadata": {},
   "outputs": [],
   "source": [
    "DB_Name = \"IoT.db\"\n",
    "\n",
    "class DatabaseManager():\n",
    "    def __init__(self):\n",
    "        self.conn = sqlite3.connect(DB_Name)\n",
    "        self.conn.execute('pragma foreign_keys = on')\n",
    "        self.conn.commit()\n",
    "        self.cur = self.conn.cursor()\n",
    "\n",
    "    def add_del_update_db_record(self, sql_query, args=()):\n",
    "        self.cur.execute(sql_query, args)\n",
    "        self.conn.commit()\n",
    "        return\n",
    "\n",
    "    def __del__(self):\n",
    "        self.cur.close()\n",
    "        self.conn.close()"
   ]
  },
  {
   "cell_type": "code",
   "execution_count": 5,
   "metadata": {},
   "outputs": [],
   "source": [
    "def Temperature_Data_Handler(jsonData):\n",
    "    #Parse Data \n",
    "    Temperature = jsonData\n",
    "    Time = str(datetime.datetime.now())\n",
    "    #Push into DB Table\n",
    "    dbObj = DatabaseManager()\n",
    "    dbObj.add_del_update_db_record(\"INSERT INTO Temperature_Data(Temperature, Date_And_Time) values (?, ?)\", [Temperature, Time])\n",
    "    del dbObj\n",
    "    print(\"Inserted Temperature Data into Database.\")\n",
    "    print(\"\")"
   ]
  },
  {
   "cell_type": "code",
   "execution_count": 6,
   "metadata": {},
   "outputs": [],
   "source": [
    "# Function to save Moisture to DB Table\n",
    "def Humidity_Data_Handler(jsonData):\n",
    "    Humidity = jsonData\n",
    "    Time = str(datetime.datetime.now())\n",
    "    dbObj = DatabaseManager()\n",
    "    dbObj.add_del_update_db_record(\"INSERT INTO Humidity_Data(Humidity, Date_And_Time) values (?, ?)\", [Humidity, Time])\n",
    "    del dbObj\n",
    "    print(\"Inserted Moisture Data into Database.\")\n",
    "    print(\"\")"
   ]
  },
  {
   "cell_type": "code",
   "execution_count": 7,
   "metadata": {},
   "outputs": [],
   "source": [
    "# Master Function to Select DB Funtion based on MQTT Topic\n",
    "\n",
    "def Sensor_Data_Handler(Topic, jsonData):\n",
    "    if(Topic == \"Light\"):\n",
    "        Light_Data_Handler(jsonData)\n",
    "    elif(Topic == \"Humidity\"):\n",
    "        Humidity_Data_Handler(jsonData)\n",
    "    elif(Topic == \"Temperature\"):\n",
    "        Temperature_Data_Handler(jsonData)"
   ]
  },
  {
   "cell_type": "code",
   "execution_count": null,
   "metadata": {},
   "outputs": [],
   "source": []
  }
 ],
 "metadata": {
  "kernelspec": {
   "display_name": "Python 3",
   "language": "python",
   "name": "python3"
  },
  "language_info": {
   "codemirror_mode": {
    "name": "ipython",
    "version": 3
   },
   "file_extension": ".py",
   "mimetype": "text/x-python",
   "name": "python",
   "nbconvert_exporter": "python",
   "pygments_lexer": "ipython3",
   "version": "3.7.5"
  }
 },
 "nbformat": 4,
 "nbformat_minor": 2
}
